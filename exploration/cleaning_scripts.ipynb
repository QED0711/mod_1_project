{
 "cells": [
  {
   "cell_type": "code",
   "execution_count": 1,
   "metadata": {},
   "outputs": [],
   "source": [
    "import numpy as np\n",
    "import pandas as pd"
   ]
  },
  {
   "cell_type": "markdown",
   "metadata": {},
   "source": [
    "## get_subgenres"
   ]
  },
  {
   "cell_type": "code",
   "execution_count": 3,
   "metadata": {},
   "outputs": [],
   "source": [
    "def get_subgenres(genre_series = []):\n",
    "    \"\"\"\n",
    "    Takes an input of a pd series of genres. \n",
    "    These are typically in CSV format, e.g. \"Action,Adventure,Comedy\"\n",
    "    Parses these CSV strings and returns a list of the unique subgenres (e.g. \"Action\" separated from the others)\n",
    "    \"\"\"\n",
    "    \n",
    "    subgenres = []\n",
    "    for g in genre_series:\n",
    "        if type(g) == str:\n",
    "            for subgenre in g.split(','):\n",
    "                if not subgenre in subgenres:\n",
    "                    subgenres.append(subgenre)\n",
    "    return subgenres"
   ]
  },
  {
   "cell_type": "markdown",
   "metadata": {},
   "source": [
    "## subgenre_counter"
   ]
  },
  {
   "cell_type": "code",
   "execution_count": 4,
   "metadata": {},
   "outputs": [],
   "source": [
    "def subgenre_counter(subgenres, df):\n",
    "    \"\"\"\n",
    "    Takes in two positional arguments: \n",
    "        1. a list of subgenres (parsed by the parse_genres function)\n",
    "        2. a pd DataFrame with a column labeled \"genres\"\n",
    "    Counts how many times each subgenre occurs in the \"genres\" column of DataFrame.\n",
    "    Results stored in genre_dict as key=subgenre, value=appearance_count\n",
    "    \"\"\"\n",
    "    \n",
    "    genre_dict = {}\n",
    "    for long_genre in df.genres:\n",
    "        for subgenre in subgenres:\n",
    "            if subgenre in long_genre:\n",
    "                if subgenre in genre_dict:\n",
    "                    genre_dict[subgenre] += 1\n",
    "                else:\n",
    "                    genre_dict[subgenre] = 1\n",
    "    return genre_dict"
   ]
  }
 ],
 "metadata": {
  "kernelspec": {
   "display_name": "Python 3",
   "language": "python",
   "name": "python3"
  },
  "language_info": {
   "codemirror_mode": {
    "name": "ipython",
    "version": 3
   },
   "file_extension": ".py",
   "mimetype": "text/x-python",
   "name": "python",
   "nbconvert_exporter": "python",
   "pygments_lexer": "ipython3",
   "version": "3.7.3"
  }
 },
 "nbformat": 4,
 "nbformat_minor": 2
}
